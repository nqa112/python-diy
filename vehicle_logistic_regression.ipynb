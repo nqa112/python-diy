{
 "cells": [
  {
   "cell_type": "code",
   "execution_count": 1,
   "id": "57cddcf8-b14d-4a75-81cc-192508a9c4e2",
   "metadata": {},
   "outputs": [],
   "source": [
    "import os\n",
    "import numpy as np\n",
    "import matplotlib.pyplot as plt\n",
    "from sklearn.model_selection import train_test_split\n",
    "from PIL import Image\n",
    "from tqdm import tqdm\n",
    "from struct import unpack "
   ]
  },
  {
   "cell_type": "code",
   "execution_count": 2,
   "id": "dcce0d93-938f-41b6-a82b-7344e21abc68",
   "metadata": {},
   "outputs": [],
   "source": [
    "!unzip -q /home/quocanh/Downloads/bike_motorbike_dataset.zip -d ./"
   ]
  },
  {
   "cell_type": "code",
   "execution_count": 3,
   "id": "d8fee40e-5b8d-42e3-9313-c81c2b4ee1f9",
   "metadata": {},
   "outputs": [],
   "source": [
    "ds_path = \"./\"\n",
    "bike_ds = os.path.join(ds_path, \"bike\")\n",
    "motorbike_ds = os.path.join(ds_path, \"motorbike\")"
   ]
  },
  {
   "cell_type": "code",
   "execution_count": 4,
   "id": "80614fcc-9349-43fb-9019-471cc05052db",
   "metadata": {},
   "outputs": [],
   "source": [
    "# Check corrupted images and delete\n",
    "marker_mapping = {\n",
    "    0xffd8: \"Start of Image\",\n",
    "    0xffe0: \"Application Default Header\",\n",
    "    0xffdb: \"Quantization Table\",\n",
    "    0xffc0: \"Start of Frame\",\n",
    "    0xffc4: \"Define Huffman Table\",\n",
    "    0xffda: \"Start of Scan\",\n",
    "    0xffd9: \"End of Image\"\n",
    "}\n",
    "\n",
    "class JPEG:\n",
    "    def __init__(self, image_file):\n",
    "        with open(image_file, 'rb') as f:\n",
    "            self.img_data = f.read()\n",
    "    \n",
    "    def decode(self):\n",
    "        data = self.img_data\n",
    "        while(True):\n",
    "            marker, = unpack(\">H\", data[0:2]) # unpack image data\n",
    "            if marker == 0xffd8:\n",
    "                data = data[2:]\n",
    "            elif marker == 0xffd9:\n",
    "                return\n",
    "            elif marker == 0xffda:\n",
    "                data = data[-2:]\n",
    "            else:\n",
    "                lenchunk, = unpack(\">H\", data[2:4])\n",
    "                data = data[2+lenchunk:]            \n",
    "            if len(data)==0:\n",
    "                break  \n",
    "\n",
    "\n",
    "def delete_broken_image(img_dir):\n",
    "    for f in os.listdir(img_dir):\n",
    "        img_name = os.path.join(img_dir, f)\n",
    "        img = JPEG(img_name) \n",
    "        try:\n",
    "            img.decode()   \n",
    "        except:\n",
    "            print(f\"Delete {img_name}\")\n",
    "            os.remove(img_name)"
   ]
  },
  {
   "cell_type": "code",
   "execution_count": 5,
   "id": "67dcc685-140b-4c77-bd05-13f9035cc3cf",
   "metadata": {},
   "outputs": [
    {
     "name": "stdout",
     "output_type": "stream",
     "text": [
      "Delete ./bike/20220821_09_23_06_161_000_hZQaKn4zVMT2wlTW9KEEaSSmUWr1_F_2592_1944 (1).jpg\n",
      "Delete ./bike/20220819_10_34_41_006_000_hZQaKn4zVMT2wlTW9KEEaSSmUWr1_F_2592_1944.jpg\n",
      "Delete ./motorbike/79_414925055008472_1568719726002_16213.jpg\n",
      "Delete ./motorbike/93_honda_airblade_2014_1568719129105_7903.jpg\n",
      "Delete ./motorbike/9036559372_d5fd35b32b_o.jpg\n",
      "Delete ./motorbike/96_gia_xe_may_sym_re_nhat_2016_duoc_nguoi_tieu_dung_ua_chuong_4_1568719337886_10799.jpg\n",
      "Delete ./motorbike/70_201609113434_img20160906150355_1568719720842_16140.jpg\n",
      "Delete ./motorbike/70_a2_1_1568719423160_11994.jpg\n",
      "Delete ./motorbike/2019_08_05_05_17_32_B0xS_6hHgXG_66398352_483445189138958_8195470045202604419_n_1568719912383_18787.jpg\n",
      "Delete ./motorbike/36_1498933419_1568719566728_14016.jpg\n",
      "Delete ./motorbike/96_201503220449_img_20150202_114557_1568719735476_16338.jpg\n",
      "Delete ./motorbike/Motorlccwyb8ksmallMotor.jpg\n",
      "Delete ./motorbike/Motor7svrb_zvsmallMotor.jpg\n"
     ]
    }
   ],
   "source": [
    "delete_broken_image(bike_ds)\n",
    "delete_broken_image(motorbike_ds)"
   ]
  },
  {
   "cell_type": "code",
   "execution_count": 6,
   "id": "ec83cfc5-31e5-4c92-9a0e-8aead0d52091",
   "metadata": {},
   "outputs": [
    {
     "name": "stdout",
     "output_type": "stream",
     "text": [
      "There are 6044 bike images and 6067 motorbike images.\n"
     ]
    }
   ],
   "source": [
    "bike_imgs = len(os.listdir(bike_ds))\n",
    "motorbike_imgs = len(os.listdir(motorbike_ds))\n",
    "\n",
    "print(f\"There are {bike_imgs} bike images and {motorbike_imgs} motorbike images.\")"
   ]
  },
  {
   "cell_type": "code",
   "execution_count": 7,
   "id": "22f746b7-32ec-4c4d-82fc-f1e2ad9451bd",
   "metadata": {},
   "outputs": [],
   "source": [
    "# Image size to be rescaled\n",
    "input_size = (64, 64)"
   ]
  },
  {
   "cell_type": "code",
   "execution_count": 8,
   "id": "c2e2e290-c816-440e-a3c5-feb9bed8732b",
   "metadata": {},
   "outputs": [],
   "source": [
    "# Convert image to numpy array and flatten\n",
    "def vectorize_image(image):\n",
    "    img = Image.open(image).convert(\"L\")\n",
    "    img_resize = img.resize(input_size)\n",
    "\n",
    "    img_arr = np.array(img_resize)\n",
    "    img_vector = img_arr.flatten()\n",
    "    \n",
    "    return img_vector"
   ]
  },
  {
   "cell_type": "code",
   "execution_count": 9,
   "id": "831a3ec7-8d48-41c7-b910-63a17d19565d",
   "metadata": {},
   "outputs": [
    {
     "name": "stderr",
     "output_type": "stream",
     "text": [
      "Vectorizing bikes: 100%|██████████| 6044/6044 [00:35<00:00, 170.31it/s]\n",
      "Vectorizing motorbikes:   3%|▎         | 168/6067 [00:03<02:08, 45.90it/s]/home/quocanh/anaconda3/envs/vision/lib/python3.9/site-packages/PIL/Image.py:959: UserWarning: Palette images with Transparency expressed in bytes should be converted to RGBA images\n",
      "  warnings.warn(\n",
      "Vectorizing motorbikes: 100%|██████████| 6067/6067 [02:08<00:00, 47.16it/s]\n"
     ]
    }
   ],
   "source": [
    "X_bike_train = np.array( [vectorize_image(os.path.join(bike_ds, x)) for x in tqdm(os.listdir(bike_ds), desc=\"Vectorizing bikes\")] )\n",
    "X_motorbike_train = np.array( [vectorize_image(os.path.join(motorbike_ds, x)) for x in tqdm(os.listdir(motorbike_ds), desc=\"Vectorizing motorbikes\")] )\n",
    "# Normalize image is a must to appropriate parameters update and faster convergence\n",
    "X_train = np.vstack((X_bike_train, X_motorbike_train)) / 255\n",
    "\n",
    "Y_bike_train = np.zeros((bike_imgs, ))\n",
    "Y_motorbike_train = np.ones((motorbike_imgs, ))\n",
    "Y_train = np.concatenate((Y_bike_train, Y_motorbike_train))"
   ]
  },
  {
   "cell_type": "code",
   "execution_count": 10,
   "id": "760455b4-b512-494d-8e2a-92467e845411",
   "metadata": {},
   "outputs": [
    {
     "name": "stdout",
     "output_type": "stream",
     "text": [
      "Number of train samples: 9083\n",
      "Number of test samples: 3028\n"
     ]
    }
   ],
   "source": [
    "# Split dataset into 75% train, 25% test\n",
    "X_train, X_test, Y_train, Y_test = train_test_split(X_train, Y_train, test_size=0.25, random_state=12)\n",
    "print(f\"Number of train samples: {X_train.shape[0]}\")\n",
    "print(f\"Number of test samples: {X_test.shape[0]}\")"
   ]
  },
  {
   "cell_type": "code",
   "execution_count": 11,
   "id": "c572a49d-742e-48cd-a3b3-f553cf8ad715",
   "metadata": {},
   "outputs": [
    {
     "data": {
      "image/png": "[encoded data removed]",
      "text/plain": [
       "<Figure size 640x480 with 1 Axes>"
      ]
     },
     "metadata": {},
     "output_type": "display_data"
    }
   ],
   "source": [
    "plt.bar([\"bike\", \"motorbike\"], [np.sum(Y_train==0), np.sum(Y_train==1)] , color=[\"maroon\", \"gold\"], width=0.5)\n",
    "plt.xlabel(\"Class\")\n",
    "plt.ylabel(\"Number of samples\")\n",
    "plt.title(\"Train dataset\")\n",
    "plt.show()"
   ]
  },
  {
   "cell_type": "code",
   "execution_count": 12,
   "id": "fd8efd5e-361a-4b3e-8cb9-f4b81ee6a6be",
   "metadata": {},
   "outputs": [],
   "source": [
    "def gradient_descent(x, y, w, b, learning_rate):\n",
    "    \"\"\"\n",
    "    Gradient descent for linear regression \n",
    " \n",
    "    Args:\n",
    "      x (ndarray (m,n): Data, m examples with n features\n",
    "      y (ndarray (m,)): target values\n",
    "      w (ndarray (n,)): model parameters  \n",
    "      b (scalar)      : model parameter\n",
    "      learning_rate (float)      : learning rate\n",
    "    Returns\n",
    "      w (ndarray (n,))   : Updated values of parameters\n",
    "      b (scalar)         : Updated value of parameter \n",
    "      total_loss (float) : Total loss of training set\n",
    "      total_acc (float) : Total accuracy of training set\n",
    "    \"\"\"\n",
    "    \n",
    "    m, n = x.shape\n",
    "    dj_dw = np.zeros((n, ))\n",
    "    dj_db = 0\n",
    "    eps = 1e-20 # add this tiny value to avoid log(0)\n",
    "    \n",
    "    # Build logistic model\n",
    "    # using sigmoid function\n",
    "    hyp = np.dot(x, w) + b # (m, )\n",
    "    sigmoid_func = 1 / (1+np.exp(-hyp)) # (m, )\n",
    "    \n",
    "    # Error between prediction and ground truth\n",
    "    diff = sigmoid_func - y\n",
    "    \n",
    "    # Compute the gradient of the cost w.r.t. the parameters w and b\n",
    "    dj_dw = np.dot(x.T, diff) / m\n",
    "    dj_db = np.sum(diff) / m\n",
    "    \n",
    "    # Update Parameters using w, b, alpha and gradient\n",
    "    w = w - learning_rate * dj_dw               \n",
    "    b = b - learning_rate * dj_db     \n",
    "    \n",
    "    # Total loss of training set\n",
    "    train_loss = ( -np.dot(y.T, np.log(sigmoid_func+eps)) - np.dot((1-y).T, np.log(1-sigmoid_func+eps)) ) / m\n",
    "    # Total accuracy of training set\n",
    "    train_predict = np.where(sigmoid_func > 0.5, 1., 0.)\n",
    "    train_acc = np.sum(train_predict == y) / m\n",
    "    \n",
    "    return w, b, train_acc, train_loss"
   ]
  },
  {
   "cell_type": "code",
   "execution_count": 13,
   "id": "b1ecc633-f9f9-4b37-a61f-35d28e8dda41",
   "metadata": {},
   "outputs": [],
   "source": [
    "# Maximum number of epochs before reduce learning rate\n",
    "# if training is not improved\n",
    "max_patience = 25"
   ]
  },
  {
   "cell_type": "code",
   "execution_count": 14,
   "id": "5a204b77-34f5-4c4c-9761-ce44707c269f",
   "metadata": {},
   "outputs": [],
   "source": [
    "def train(x, y, w, b, learning_rate, epochs):\n",
    "    cost_hist = []\n",
    "    acc_hist = []\n",
    "    patience = 0\n",
    "    \n",
    "    for i in range(epochs+1):\n",
    "        # Calculate the gradient and update the parameters\n",
    "        w, b, acc, loss  = gradient_descent(x, y, w, b, learning_rate)\n",
    "        cost_hist.append(loss)\n",
    "        acc_hist.append(acc)\n",
    "                    \n",
    "        if i%500 == 0:\n",
    "            print(f\"\\nEpoch {i}: Loss = {cost_hist[-1]:.4f} | Accuracy = {acc_hist[-1]:.4f}\")\n",
    "            \n",
    "        # If loss is not improved for (max_patience) epochs, reduce learning rate\n",
    "        if i > 1:\n",
    "            if cost_hist[i] > cost_hist[i-1]:\n",
    "                patience += 1\n",
    "                if patience > max_patience:\n",
    "                    learning_rate  = learning_rate * 0.5\n",
    "                    print(f\"\\nLearning rate decreased to {learning_rate}\")\n",
    "                    patience = 0\n",
    "\n",
    "    # return cost history for graphing\n",
    "    return w, b, cost_hist, acc_hist         "
   ]
  },
  {
   "cell_type": "code",
   "execution_count": 15,
   "id": "7cbdd7a5-336c-4723-b5ca-4da92008ea30",
   "metadata": {},
   "outputs": [
    {
     "name": "stdout",
     "output_type": "stream",
     "text": [
      "\n",
      "Epoch 0: Loss = 0.6931 | Accuracy = 0.5013\n",
      "\n",
      "Learning rate decreased to 0.05\n",
      "\n",
      "Learning rate decreased to 0.025\n",
      "\n",
      "Epoch 500: Loss = 0.5227 | Accuracy = 0.7983\n",
      "\n",
      "Learning rate decreased to 0.0125\n",
      "\n",
      "Epoch 1000: Loss = 0.4267 | Accuracy = 0.8025\n",
      "\n",
      "Epoch 1500: Loss = 0.4001 | Accuracy = 0.8110\n",
      "\n",
      "Epoch 2000: Loss = 0.3871 | Accuracy = 0.8196\n",
      "\n",
      "Epoch 2500: Loss = 0.3795 | Accuracy = 0.8236\n",
      "\n",
      "Epoch 3000: Loss = 0.3744 | Accuracy = 0.8273\n",
      "\n",
      "Epoch 3500: Loss = 0.3706 | Accuracy = 0.8298\n",
      "\n",
      "Epoch 4000: Loss = 0.3675 | Accuracy = 0.8329\n",
      "\n",
      "Epoch 4500: Loss = 0.3649 | Accuracy = 0.8341\n",
      "\n",
      "Epoch 5000: Loss = 0.3626 | Accuracy = 0.8363\n",
      "\n",
      "Epoch 5500: Loss = 0.3605 | Accuracy = 0.8385\n",
      "\n",
      "Epoch 6000: Loss = 0.3585 | Accuracy = 0.8401\n",
      "\n",
      "Epoch 6500: Loss = 0.3567 | Accuracy = 0.8416\n",
      "\n",
      "Epoch 7000: Loss = 0.3550 | Accuracy = 0.8423\n",
      "\n",
      "Epoch 7500: Loss = 0.3533 | Accuracy = 0.8431\n",
      "\n",
      "Epoch 8000: Loss = 0.3517 | Accuracy = 0.8439\n",
      "\n",
      "Epoch 8500: Loss = 0.3502 | Accuracy = 0.8442\n",
      "\n",
      "Epoch 9000: Loss = 0.3488 | Accuracy = 0.8451\n",
      "\n",
      "Epoch 9500: Loss = 0.3474 | Accuracy = 0.8456\n",
      "\n",
      "Epoch 10000: Loss = 0.3460 | Accuracy = 0.8462\n",
      "\n",
      "Updated parameters: w = [-0.0047013  -0.00311549  0.05205636 ... -0.02389229 -0.01511929\n",
      " -0.02102856] | b = 0.45522504568314903 | Accuracy = 0.8462 | Loss = 0.3460\n"
     ]
    }
   ],
   "source": [
    "# Initialize weights and biases\n",
    "w0  = np.zeros_like(X_train[0])\n",
    "b0  = 0.\n",
    "\n",
    "# Set learning rate and iterations\n",
    "learning_rate = 0.1\n",
    "epochs = 10000\n",
    "\n",
    "w_out, b_out, cost_hist, acc_hist  = train(X_train, Y_train, w0, b0, learning_rate, epochs) \n",
    "print(f\"\\nUpdated parameters: w = {w_out} | b = {b_out} | Accuracy = {acc_hist[-1]:.4f} | Loss = {cost_hist[-1]:.4f}\")"
   ]
  },
  {
   "cell_type": "code",
   "execution_count": 16,
   "id": "a74e5f63-d41e-44f5-8f65-01ca2edabd61",
   "metadata": {},
   "outputs": [
    {
     "data": {
      "image/png": "[encoded data removed]",
      "text/plain": [
       "<Figure size 640x480 with 1 Axes>"
      ]
     },
     "metadata": {},
     "output_type": "display_data"
    }
   ],
   "source": [
    "plt.plot(cost_hist, label='train_loss')\n",
    "plt.plot(acc_hist, label='train_accuracy')\n",
    "plt.xlabel(\"Epochs\")\n",
    "plt.legend(loc='upper right')\n",
    "plt.title('Logistic Regression Metrics')\n",
    "plt.grid(\"on\")\n",
    "plt.show()"
   ]
  },
  {
   "cell_type": "code",
   "execution_count": 17,
   "id": "8694b8a5-8622-4292-bfd5-d21267b4a246",
   "metadata": {},
   "outputs": [
    {
     "name": "stdout",
     "output_type": "stream",
     "text": [
      "Test accuracy: 75.36%\n",
      "Test loss: 51.73%\n"
     ]
    }
   ],
   "source": [
    "predictions_score = 1 / (1+np.exp( -np.dot(X_test, w_out) + b_out ))\n",
    "predictions_label = np.where(predictions_score > 0.5, 1., 0.)\n",
    "\n",
    "test_acc = np.mean(predictions_label == Y_test) * 100\n",
    "test_loss = ( -np.dot(Y_test.T, np.log(predictions_score)) - np.dot((1-Y_test).T, np.log(1-predictions_score)) ) / predictions_score.shape[0] * 100\n",
    "\n",
    "print(f\"Test accuracy: {test_acc:.2f}%\")\n",
    "print(f\"Test loss: {test_loss:.2f}%\")"
   ]
  },
  {
   "cell_type": "code",
   "execution_count": null,
   "id": "1a866e51-db55-4e20-856c-3332a4f202bc",
   "metadata": {},
   "outputs": [],
   "source": []
  }
 ],
 "metadata": {
  "kernelspec": {
   "display_name": "Python 3 (ipykernel)",
   "language": "python",
   "name": "python3"
  },
  "language_info": {
   "codemirror_mode": {
    "name": "ipython",
    "version": 3
   },
   "file_extension": ".py",
   "mimetype": "text/x-python",
   "name": "python",
   "nbconvert_exporter": "python",
   "pygments_lexer": "ipython3",
   "version": "3.9.13"
  }
 },
 "nbformat": 4,
 "nbformat_minor": 5
}
